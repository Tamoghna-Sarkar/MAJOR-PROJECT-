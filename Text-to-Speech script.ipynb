{
  "nbformat": 4,
  "nbformat_minor": 0,
  "metadata": {
    "colab": {
      "name": "TTSX3.ipynb",
      "provenance": []
    },
    "kernelspec": {
      "name": "python3",
      "display_name": "Python 3"
    }
  },
  "cells": [
    {
      "cell_type": "code",
      "metadata": {
        "id": "N52OdUc_Vg6K",
        "colab_type": "code",
        "colab": {
          "base_uri": "https://localhost:8080/",
          "height": 85
        },
        "outputId": "a36227bd-0a8b-4faf-de9f-aeac903e8847"
      },
      "source": [
        "!pip install pyttsx3"
      ],
      "execution_count": 2,
      "outputs": [
        {
          "output_type": "stream",
          "text": [
            "Collecting pyttsx3\n",
            "  Downloading https://files.pythonhosted.org/packages/2f/ca/019a5d782f355bc2040ac45bd9612995652934dc16e48873d3fb2e367547/pyttsx3-2.71-py3-none-any.whl\n",
            "Installing collected packages: pyttsx3\n",
            "Successfully installed pyttsx3-2.71\n"
          ],
          "name": "stdout"
        }
      ]
    },
    {
      "cell_type": "code",
      "metadata": {
        "id": "l_6_dslpVnVP",
        "colab_type": "code",
        "colab": {}
      },
      "source": [
        "import pyttsx3"
      ],
      "execution_count": 0,
      "outputs": []
    },
    {
      "cell_type": "code",
      "metadata": {
        "id": "Yj7-9lS2Vrmd",
        "colab_type": "code",
        "colab": {
          "base_uri": "https://localhost:8080/",
          "height": 51
        },
        "outputId": "6fbfd641-144c-414c-da50-be67d0625eda"
      },
      "source": [
        "import pyttsx3\n",
        "engine = pyttsx3.init() # object creation\n",
        "\n",
        "\"\"\" RATE\"\"\"\n",
        "rate = engine.getProperty('rate')   # getting details of current speaking rate\n",
        "print (rate)                        #printing current voice rate\n",
        "engine.setProperty('rate', 125)     # setting up new voice rate\n",
        "\n",
        "\n",
        "\"\"\"VOLUME\"\"\"\n",
        "volume = engine.getProperty('volume')   #getting to know current volume level (min=0 and max=1)\n",
        "print (volume)                          #printing current volume level\n",
        "engine.setProperty('volume',1.0)    # setting up volume level  between 0 and 1\n",
        "\n",
        "\"\"\"VOICE\"\"\"\n",
        "voices = engine.getProperty('voices')       #getting details of current voice\n",
        "#engine.setProperty('voice', voices[0].id)  #changing index, changes voices. o for male\n",
        "engine.setProperty('voice', voices[1].id)   #changing index, changes voices. 1 for female\n",
        "\n",
        "engine.say(\"Hello World!\")\n",
        "engine.say('My current speaking rate is ' + str(rate))\n",
        "engine.runAndWait()\n",
        "engine.stop()\n",
        "\n"
      ],
      "execution_count": 16,
      "outputs": [
        {
          "output_type": "stream",
          "text": [
            "175\n",
            "1.0\n"
          ],
          "name": "stdout"
        }
      ]
    },
    {
      "cell_type": "code",
      "metadata": {
        "id": "kRjE91_sd3U7",
        "colab_type": "code",
        "colab": {}
      },
      "source": [
        ""
      ],
      "execution_count": 0,
      "outputs": []
    }
  ]
}
